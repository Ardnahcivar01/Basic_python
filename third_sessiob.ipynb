{
 "cells": [
  {
   "attachments": {},
   "cell_type": "markdown",
   "metadata": {},
   "source": [
    "Difference between for loop and while lopp .\n",
    "\n",
    "for loop --> Iteration are knwon\n",
    "while loop --> No idea about the iteration "
   ]
  },
  {
   "cell_type": "code",
   "execution_count": 6,
   "metadata": {},
   "outputs": [
    {
     "name": "stdout",
     "output_type": "stream",
     "text": [
      "0\n",
      "1\n",
      "2\n",
      "3\n",
      "4\n"
     ]
    }
   ],
   "source": [
    "for i in range(0,5):\n",
    "    print(i)"
   ]
  },
  {
   "cell_type": "code",
   "execution_count": 13,
   "metadata": {},
   "outputs": [
    {
     "name": "stdout",
     "output_type": "stream",
     "text": [
      "5\n",
      "4\n",
      "3\n",
      "2\n",
      "1\n"
     ]
    }
   ],
   "source": [
    "for i in range(5,0):\n",
    "    print(i)\n",
    "\n",
    "for i in range(5,0,-1):\n",
    "    print(i)"
   ]
  },
  {
   "cell_type": "code",
   "execution_count": 14,
   "metadata": {},
   "outputs": [
    {
     "name": "stdout",
     "output_type": "stream",
     "text": [
      "hello\n",
      "hello\n",
      "hello\n"
     ]
    }
   ],
   "source": [
    "for i in range(0,3):\n",
    "    print('hello')"
   ]
  },
  {
   "cell_type": "code",
   "execution_count": 16,
   "metadata": {},
   "outputs": [
    {
     "name": "stdout",
     "output_type": "stream",
     "text": [
      "u s e r "
     ]
    }
   ],
   "source": [
    "for x in 'user':\n",
    "    print(x,end=\" \")"
   ]
  },
  {
   "attachments": {},
   "cell_type": "markdown",
   "metadata": {},
   "source": [
    "Methods of string using loop"
   ]
  },
  {
   "cell_type": "code",
   "execution_count": 19,
   "metadata": {},
   "outputs": [
    {
     "name": "stdout",
     "output_type": "stream",
     "text": [
      "0\n",
      "1\n",
      "2\n",
      "3\n"
     ]
    }
   ],
   "source": [
    "for index in range(0,len('user')):\n",
    "    print(index)"
   ]
  },
  {
   "cell_type": "code",
   "execution_count": 20,
   "metadata": {},
   "outputs": [
    {
     "name": "stdout",
     "output_type": "stream",
     "text": [
      "0\n",
      "1\n",
      "2\n",
      "3\n"
     ]
    }
   ],
   "source": [
    "data = 'data'\n",
    "for index in range(0,len(data)):\n",
    "    print(index)"
   ]
  },
  {
   "cell_type": "code",
   "execution_count": 24,
   "metadata": {},
   "outputs": [
    {
     "name": "stdout",
     "output_type": "stream",
     "text": [
      "0 u\n",
      "1 s\n",
      "2 e\n",
      "3 r\n"
     ]
    }
   ],
   "source": [
    "data = \"user\"\n",
    "for index in range(0,len(data)):\n",
    "    print(index,data[index])"
   ]
  },
  {
   "cell_type": "code",
   "execution_count": 30,
   "metadata": {},
   "outputs": [
    {
     "name": "stdout",
     "output_type": "stream",
     "text": [
      "3 r\n",
      "2 e\n",
      "1 s\n",
      "0 u\n"
     ]
    }
   ],
   "source": [
    "data = \"user\"\n",
    "for index in range(len(data)-1,0-1,-1):\n",
    "    print(index,data[index])"
   ]
  },
  {
   "cell_type": "code",
   "execution_count": 33,
   "metadata": {},
   "outputs": [
    {
     "name": "stdout",
     "output_type": "stream",
     "text": [
      "0\n",
      "1\n",
      "2\n",
      "3\n",
      "4\n",
      "5\n",
      "6\n",
      "7\n",
      "8\n"
     ]
    }
   ],
   "source": [
    "# Using while loop\n",
    "count = 0\n",
    "while(count<9):\n",
    "    print(count)\n",
    "    count+=1\n",
    "\n",
    "# if value of count 0 always then it prints infinte loop because condition remains true"
   ]
  },
  {
   "cell_type": "code",
   "execution_count": 34,
   "metadata": {},
   "outputs": [
    {
     "name": "stdout",
     "output_type": "stream",
     "text": [
      "0 u\n",
      "1 s\n",
      "2 e\n",
      "3 r\n"
     ]
    }
   ],
   "source": [
    "data = 'user'\n",
    "index = 0\n",
    "while (index < len(data)):\n",
    "    print(index,data[index])\n",
    "    index+=1"
   ]
  },
  {
   "cell_type": "code",
   "execution_count": 38,
   "metadata": {},
   "outputs": [
    {
     "name": "stdout",
     "output_type": "stream",
     "text": [
      "hey\n",
      "ravi\n",
      "ravi\n",
      "hey\n",
      "ravi\n",
      "ravi\n",
      "hey\n",
      "ravi\n",
      "ravi\n",
      "hey\n",
      "ravi\n",
      "ravi\n"
     ]
    }
   ],
   "source": [
    "# Nested loop in python\n",
    "for i in range(0,4):\n",
    "    print(\"hey\")\n",
    "\n",
    "    for j in range(2,4):\n",
    "        print(\"ravi\")"
   ]
  },
  {
   "cell_type": "code",
   "execution_count": 41,
   "metadata": {},
   "outputs": [
    {
     "name": "stdout",
     "output_type": "stream",
     "text": [
      "1 1\n",
      "1 2\n",
      "1 3\n",
      "2 1\n",
      "2 2\n",
      "2 3\n",
      "3 1\n",
      "3 2\n",
      "3 3\n",
      "4 1\n",
      "4 2\n",
      "4 3\n"
     ]
    }
   ],
   "source": [
    "for outer in range(1,5):\n",
    "    for inner in range(1,4):\n",
    "        print(outer,inner)"
   ]
  },
  {
   "cell_type": "code",
   "execution_count": 50,
   "metadata": {},
   "outputs": [
    {
     "name": "stdout",
     "output_type": "stream",
     "text": [
      "* * * * * \n",
      "* * * * \n",
      "* * * \n",
      "* * \n",
      "* \n"
     ]
    }
   ],
   "source": [
    "for outer in range (1,6):\n",
    "    for inner in range(5,outer-1,-1):\n",
    "        print(\"*\",end=\" \")\n",
    "    \n",
    "    print()\n"
   ]
  },
  {
   "cell_type": "code",
   "execution_count": 54,
   "metadata": {},
   "outputs": [
    {
     "name": "stdout",
     "output_type": "stream",
     "text": [
      " \n",
      "*  \n",
      "* *  \n",
      "* * *  \n",
      "* * * *  \n",
      "* * * * *  \n"
     ]
    }
   ],
   "source": [
    "for outer in range(6,0,-1):\n",
    "    for inner in range(5,outer-1,-1):\n",
    "        print(\"*\",end=\" \")\n",
    "    \n",
    "    print(\" \")"
   ]
  },
  {
   "attachments": {},
   "cell_type": "markdown",
   "metadata": {},
   "source": [
    "1. D\n",
    "   EF\n",
    "   GHI\n",
    "   JKLM\n",
    "\n",
    "2. A\n",
    "   CE\n",
    "   GIK\n",
    "   MOQS\n",
    "\n",
    "3. Take a input from user and print start as per the user string character\n",
    "   A\n",
    "   *\n",
    "   B\n",
    "   **\n",
    "   C\n",
    "   ***\n",
    "   D\n",
    "   ****\n",
    "\n",
    "4. Take a input from a user and check whether the input follow conditions \n",
    "a. Input minimum in 6 to 15 character \n",
    "b. One character should be capial\n",
    "c. a to t any character this range \n",
    "b. one number shold be 7 / 8 / 9 .\n",
    "\n",
    "Eg --> helLo98\n",
    "\n",
    "Note --> If condition is not satisfied then take input for maximum three trials from user.\n",
    "\n",
    "5. To find out all the prime number from 1 to 50."
   ]
  },
  {
   "cell_type": "code",
   "execution_count": 60,
   "metadata": {},
   "outputs": [
    {
     "name": "stdout",
     "output_type": "stream",
     "text": [
      "D  \n",
      "E F  \n",
      "G H I  \n",
      "J K L M  \n"
     ]
    }
   ],
   "source": [
    "value=68\n",
    "\n",
    "for i in range(0,4):\n",
    "    for j in range(0,i+1):\n",
    "        alphabat = chr(value)\n",
    "        print(alphabat,end=\" \")\n",
    "        value+=1\n",
    "    \n",
    "    print(\" \")"
   ]
  },
  {
   "cell_type": "code",
   "execution_count": 61,
   "metadata": {},
   "outputs": [
    {
     "name": "stdout",
     "output_type": "stream",
     "text": [
      "A  \n",
      "C E  \n",
      "G I K  \n",
      "M O Q S  \n"
     ]
    }
   ],
   "source": [
    "value = 65\n",
    " \n",
    "for i in range(0,4):\n",
    "    for j in range(0,i+1):\n",
    "        alphabat = chr(value)\n",
    "        print(alphabat,end=\" \")\n",
    "        value+=2\n",
    "    \n",
    "    print(\" \")"
   ]
  },
  {
   "cell_type": "code",
   "execution_count": 102,
   "metadata": {},
   "outputs": [
    {
     "name": "stdout",
     "output_type": "stream",
     "text": [
      "A\n",
      "*\n",
      "B\n",
      "**\n",
      "C\n",
      "***\n"
     ]
    }
   ],
   "source": [
    "string = input(\"Enter a input string \")\n",
    "for i in range(len(string)):\n",
    "    print(string[i])\n",
    "    print(\"*\"*(i+1))"
   ]
  },
  {
   "attachments": {},
   "cell_type": "markdown",
   "metadata": {},
   "source": [
    "Data Types in python programming"
   ]
  },
  {
   "cell_type": "code",
   "execution_count": 67,
   "metadata": {},
   "outputs": [
    {
     "name": "stdout",
     "output_type": "stream",
     "text": [
      "[10, 20, 30, 'hello', 'hii', 10]\n",
      "<class 'list'>\n"
     ]
    },
    {
     "data": {
      "text/plain": [
       "[100, 20, 30, 'hello', 'hii', 10]"
      ]
     },
     "execution_count": 67,
     "metadata": {},
     "output_type": "execute_result"
    }
   ],
   "source": [
    "# list --> Collection of things insdie the one varible , in such way that all elements are store in sequence.\n",
    "# Multiple data-type value can be allowd by list , as compair to array , Array has similar item collection.\n",
    "# Also knwon as a sequential orderd collection of elements\n",
    "\n",
    "mylist = [10,20,30,\"hello\",'hii',10]\n",
    "print(mylist)\n",
    "print(type(mylist))\n",
    "\n",
    "# Slicing in list\n",
    "mylist[0] = 100\n",
    "mylist"
   ]
  },
  {
   "cell_type": "code",
   "execution_count": 72,
   "metadata": {},
   "outputs": [
    {
     "name": "stdout",
     "output_type": "stream",
     "text": [
      "[1, 2, 3, 4, 5, 6]\n"
     ]
    }
   ],
   "source": [
    "# Appending two lists\n",
    "mylist=[1,2,3]\n",
    "mylist2=[4,5,6]\n",
    "# mylist.append(mylist2)\n",
    "# print(mylist)\n",
    "\n",
    "# Another approach\n",
    "list1 = mylist + mylist2\n",
    "print(list1)\n"
   ]
  },
  {
   "cell_type": "code",
   "execution_count": 77,
   "metadata": {},
   "outputs": [
    {
     "name": "stdout",
     "output_type": "stream",
     "text": [
      "[1, 2]\n"
     ]
    }
   ],
   "source": [
    "mylist = [1,2,3]\n",
    "mylist.pop()\n",
    "print(mylist)\n"
   ]
  },
  {
   "cell_type": "code",
   "execution_count": 85,
   "metadata": {},
   "outputs": [
    {
     "name": "stdout",
     "output_type": "stream",
     "text": [
      "<class 'str'>\n",
      "<class 'tuple'>\n"
     ]
    }
   ],
   "source": [
    "# Tuple --> Data in format of orderd way and immutable in nature\n",
    "myTuple = \"hello\"\n",
    "print(type(myTuple))\n",
    "\n",
    "myTuple = \"hello\",10,11,12\n",
    "print(type(myTuple))\n",
    "\n",
    "# Note --> No need for brackets in tuple , it consider them tuple "
   ]
  },
  {
   "cell_type": "code",
   "execution_count": 86,
   "metadata": {},
   "outputs": [
    {
     "data": {
      "text/plain": [
       "(30,)"
      ]
     },
     "execution_count": 86,
     "metadata": {},
     "output_type": "execute_result"
    }
   ],
   "source": [
    "mytup = ('hello',20,30)\n",
    "mytup[2:6]\n"
   ]
  },
  {
   "attachments": {},
   "cell_type": "markdown",
   "metadata": {},
   "source": [
    "Take 5 number inpur form user and append the integer values in the list. And extract the second last chracter of the list and then print the value \n"
   ]
  }
 ],
 "metadata": {
  "kernelspec": {
   "display_name": "Python 3",
   "language": "python",
   "name": "python3"
  },
  "language_info": {
   "codemirror_mode": {
    "name": "ipython",
    "version": 3
   },
   "file_extension": ".py",
   "mimetype": "text/x-python",
   "name": "python",
   "nbconvert_exporter": "python",
   "pygments_lexer": "ipython3",
   "version": "3.11.1"
  },
  "orig_nbformat": 4
 },
 "nbformat": 4,
 "nbformat_minor": 2
}
