{
 "cells": [
  {
   "cell_type": "code",
   "execution_count": 1,
   "metadata": {},
   "outputs": [
    {
     "data": {
      "text/plain": [
       "17.0"
      ]
     },
     "execution_count": 1,
     "metadata": {},
     "output_type": "execute_result"
    }
   ],
   "source": [
    "3+8*3/2+5-2-1\n"
   ]
  },
  {
   "cell_type": "code",
   "execution_count": 2,
   "metadata": {},
   "outputs": [
    {
     "data": {
      "text/plain": [
       "16"
      ]
     },
     "execution_count": 2,
     "metadata": {},
     "output_type": "execute_result"
    }
   ],
   "source": [
    "x=10+6\n",
    "x"
   ]
  },
  {
   "cell_type": "code",
   "execution_count": 3,
   "metadata": {},
   "outputs": [
    {
     "data": {
      "text/plain": [
       "True"
      ]
     },
     "execution_count": 3,
     "metadata": {},
     "output_type": "execute_result"
    }
   ],
   "source": [
    "#compression operator\n",
    "x=19\n",
    "x==19\n"
   ]
  },
  {
   "cell_type": "code",
   "execution_count": 7,
   "metadata": {},
   "outputs": [
    {
     "name": "stdout",
     "output_type": "stream",
     "text": [
      "false\n"
     ]
    }
   ],
   "source": [
    "x=10\n",
    "y=13\n",
    "if x==10 and y==11:\n",
    "    print(\"true\")\n",
    "else:\n",
    "    print('false')"
   ]
  },
  {
   "cell_type": "code",
   "execution_count": 13,
   "metadata": {},
   "outputs": [
    {
     "data": {
      "text/plain": [
       "14"
      ]
     },
     "execution_count": 13,
     "metadata": {},
     "output_type": "execute_result"
    }
   ],
   "source": [
    "10 & 9\n",
    "12 | 14\n"
   ]
  },
  {
   "cell_type": "code",
   "execution_count": 15,
   "metadata": {},
   "outputs": [
    {
     "data": {
      "text/plain": [
       "False"
      ]
     },
     "execution_count": 15,
     "metadata": {},
     "output_type": "execute_result"
    }
   ],
   "source": [
    "x=10\n",
    "\n",
    "type(x) is str"
   ]
  },
  {
   "cell_type": "code",
   "execution_count": 16,
   "metadata": {},
   "outputs": [
    {
     "name": "stdout",
     "output_type": "stream",
     "text": [
      "Eligible\n"
     ]
    }
   ],
   "source": [
    "age = 18\n",
    "if (age>=18):\n",
    "    print(\"Eligible\")\n",
    "else:\n",
    "    print(\"Nope\")"
   ]
  },
  {
   "cell_type": "code",
   "execution_count": 19,
   "metadata": {},
   "outputs": [
    {
     "name": "stdout",
     "output_type": "stream",
     "text": [
      "less then 18\n"
     ]
    }
   ],
   "source": [
    "age =19\n",
    "if(age <=18 ):\n",
    "    print(\"sign up to the application\")\n",
    "elif(age==17):\n",
    "    print(\"sign up with 17 age\")\n",
    "else:\n",
    "    print('less then 18')\n"
   ]
  },
  {
   "attachments": {},
   "cell_type": "markdown",
   "metadata": {},
   "source": [
    "Create a program to check the following conditions :\n",
    "a. if value of age varible range 20 to 25 then --> print(hi)\n",
    "b. and if 23 then --> print(hello 23)\n",
    "c. No entery"
   ]
  },
  {
   "cell_type": "code",
   "execution_count": 28,
   "metadata": {},
   "outputs": [
    {
     "name": "stdout",
     "output_type": "stream",
     "text": [
      "no entery \n"
     ]
    }
   ],
   "source": [
    "age=int(input(\"enter age \"))\n",
    "if (age==23):\n",
    "    print(\"hello 23 \")\n",
    "elif(age>20 and age <25):\n",
    "    print(\"hii\")\n",
    "else:\n",
    "    print(\"no entery \")\n"
   ]
  },
  {
   "attachments": {},
   "cell_type": "markdown",
   "metadata": {},
   "source": [
    "Get 3 number from user "
   ]
  },
  {
   "cell_type": "code",
   "execution_count": 30,
   "metadata": {},
   "outputs": [
    {
     "name": "stdout",
     "output_type": "stream",
     "text": [
      "x is grater\n"
     ]
    }
   ],
   "source": [
    "x=int(input(\"Enter x\"))\n",
    "y=int(input(\"Enter y\"))\n",
    "z=int(input(\"enter z\"))\n",
    "\n",
    "if (x>=y and x>=z):\n",
    "    print(\"x is grater\")\n",
    "elif(y>=x and y>=z):\n",
    "    print(\"Y is grater\")\n",
    "else:\n",
    "    print(\"Z is grater\")"
   ]
  },
  {
   "attachments": {},
   "cell_type": "markdown",
   "metadata": {},
   "source": [
    "1. Check any number for 3 divisiblity rule.\n",
    "2. Take input from user ,Check the number is divisible or not.( Follow the divisible rule for 6) \n",
    "3. Take a input from the user as a mail id check if data is of string type then found its domain . like in mail (gmail.com).If input is not string then take input again .\n",
    "4.Take two number from user and check if numbers is integer then perform aithmatic operation othewise don't perform.\n"
   ]
  },
  {
   "cell_type": "code",
   "execution_count": 3,
   "metadata": {},
   "outputs": [
    {
     "name": "stdout",
     "output_type": "stream",
     "text": [
      "10 is not divisible by 3.\n"
     ]
    }
   ],
   "source": [
    "# 1\n",
    "def is_divisible_by_3(number):\n",
    "\n",
    "    number_str = str(number)\n",
    "\n",
    "\n",
    "    digit_sum = sum(int(digit) for digit in number_str)\n",
    "\n",
    "\n",
    "    if digit_sum % 3 == 0:\n",
    "        return True\n",
    "    else:\n",
    "        return False\n",
    "\n",
    "\n",
    "number = int(input(\"Enter a number: \"))\n",
    "\n",
    "if is_divisible_by_3(number):\n",
    "    print(number, \"is divisible by 3.\")\n",
    "else:\n",
    "    print(number, \"is not divisible by 3.\")\n",
    "\n"
   ]
  },
  {
   "cell_type": "code",
   "execution_count": 5,
   "metadata": {},
   "outputs": [
    {
     "name": "stdout",
     "output_type": "stream",
     "text": [
      "Enter Number is divisibel by 6 \n"
     ]
    }
   ],
   "source": [
    "#2\n",
    "num=int(input(\"Enter a number \"))\n",
    "\n",
    "if num%2==0 and num%3==0:\n",
    "    print(\"Enter Number is divisibel by 6 \")\n",
    "else:\n",
    "    print(\"Enter number is not divisible by 6 \")\n"
   ]
  },
  {
   "cell_type": "code",
   "execution_count": 4,
   "metadata": {},
   "outputs": [
    {
     "name": "stdout",
     "output_type": "stream",
     "text": [
      "Domain name is :  gmail.com\n"
     ]
    }
   ],
   "source": [
    "name = input(\"Enter you mail address \")\n",
    "index=name.index(\"@\")\n",
    "domain_name =name[index+1:]\n",
    "print(f\"Domain name is : \",domain_name)"
   ]
  },
  {
   "cell_type": "code",
   "execution_count": 11,
   "metadata": {},
   "outputs": [
    {
     "name": "stdout",
     "output_type": "stream",
     "text": [
      "Addition is  22\n"
     ]
    }
   ],
   "source": [
    "num1 = int(input(\"Enter a number \"))\n",
    "num2 = int(input(\"Enter a another one number \"))\n",
    "\n",
    "if type(num1)==int and type(num2)== int:\n",
    "    add = num1 + num2\n",
    "    print(f\"Addition is \",add)\n",
    "elif num1.isalpha() and num2.isalpha():\n",
    "    print(\"Error ! --> Entered value is charcater \")\n",
    "else:\n",
    "    print(\"Error ! Enterd value is special sign \")\n"
   ]
  },
  {
   "cell_type": "code",
   "execution_count": null,
   "metadata": {},
   "outputs": [],
   "source": []
  }
 ],
 "metadata": {
  "kernelspec": {
   "display_name": "Python 3",
   "language": "python",
   "name": "python3"
  },
  "language_info": {
   "codemirror_mode": {
    "name": "ipython",
    "version": 3
   },
   "file_extension": ".py",
   "mimetype": "text/x-python",
   "name": "python",
   "nbconvert_exporter": "python",
   "pygments_lexer": "ipython3",
   "version": "3.11.1"
  },
  "orig_nbformat": 4
 },
 "nbformat": 4,
 "nbformat_minor": 2
}
