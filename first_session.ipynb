{
 "cells": [
  {
   "cell_type": "code",
   "execution_count": 3,
   "metadata": {},
   "outputs": [
    {
     "name": "stdout",
     "output_type": "stream",
     "text": [
      "hello wrold#tushar here\n",
      "hello world tushar here\n"
     ]
    }
   ],
   "source": [
    "print('hello wrold',end=\"#\")\n",
    "print('tushar here')\n",
    "\n",
    "print(\"hello world\",end=\" \")\n",
    "print(\"tushar here\")"
   ]
  },
  {
   "cell_type": "code",
   "execution_count": 5,
   "metadata": {},
   "outputs": [
    {
     "name": "stdout",
     "output_type": "stream",
     "text": [
      "hello world $ hello ravi\n"
     ]
    }
   ],
   "source": [
    "print(\"hello world \",end=\"$\")\n",
    "print(\" hello ravi\")"
   ]
  },
  {
   "cell_type": "code",
   "execution_count": 16,
   "metadata": {},
   "outputs": [
    {
     "name": "stdout",
     "output_type": "stream",
     "text": [
      "10\n",
      "<class 'int'>\n",
      "hello \n",
      "hello hy \n",
      "hoe are \n",
      "you \n",
      "\n",
      "<class 'str'>\n",
      "{'age': 12, 'name': 'ravi'}\n",
      "<class 'dict'>\n",
      "{'apple', 'kiwi', 'Mango'}\n",
      "<class 'set'>\n"
     ]
    }
   ],
   "source": [
    "# Data  Types in python \n",
    "age = 10\n",
    "print(age)\n",
    "print(type(age))\n",
    "char = \"hello \"\n",
    "print(char)\n",
    "\n",
    "str = \"\"\"hello hy \n",
    "hoe are \n",
    "you \n",
    "\"\"\"\n",
    "print(str)\n",
    "print(type(char))\n",
    "\n",
    "dict={\n",
    "    \"age\" : 12,\n",
    "    \"name\" : \"ravi\"\n",
    "}\n",
    "\n",
    "print(dict)\n",
    "print(type(dict))\n",
    "\n",
    "fruits={\"apple\",\"apple\",\"Mango\",\"Mango\",\"kiwi\"}\n",
    "print(fruits)\n",
    "print(type(fruits))\n"
   ]
  },
  {
   "cell_type": "code",
   "execution_count": 14,
   "metadata": {},
   "outputs": [
    {
     "name": "stdout",
     "output_type": "stream",
     "text": [
      "4354254560\n",
      "4354254592\n"
     ]
    }
   ],
   "source": [
    "x=10\n",
    "print(id(x))\n",
    "\n",
    "x=11\n",
    "print(id(x))"
   ]
  },
  {
   "cell_type": "code",
   "execution_count": 15,
   "metadata": {},
   "outputs": [
    {
     "name": "stdout",
     "output_type": "stream",
     "text": [
      "4354254560\n",
      "4354254560\n"
     ]
    }
   ],
   "source": [
    "x=10\n",
    "print(id(x))\n",
    "y=10\n",
    "print(id(y))"
   ]
  },
  {
   "cell_type": "code",
   "execution_count": 18,
   "metadata": {},
   "outputs": [
    {
     "data": {
      "text/plain": [
       "'\\nMultiline comment  \\n'"
      ]
     },
     "execution_count": 18,
     "metadata": {},
     "output_type": "execute_result"
    }
   ],
   "source": [
    "'''\n",
    "Multiline comment  \n",
    "'''"
   ]
  },
  {
   "cell_type": "code",
   "execution_count": 25,
   "metadata": {},
   "outputs": [
    {
     "name": "stdout",
     "output_type": "stream",
     "text": [
      "company is  Regex\n",
      "location is   Gopal pura \n",
      "Compnay is Regex and location is  Gopal pura \n"
     ]
    }
   ],
   "source": [
    "# String formating \n",
    "comp = \"Regex\"\n",
    "location = \" Gopal pura \"\n",
    "print(f\"company is \",comp)\n",
    "print(f\"location is \", location)\n",
    "\n",
    "print(f\"Compnay is {comp} and location is {location}\")"
   ]
  },
  {
   "cell_type": "code",
   "execution_count": 27,
   "metadata": {},
   "outputs": [
    {
     "name": "stdout",
     "output_type": "stream",
     "text": [
      "jaipur\n"
     ]
    }
   ],
   "source": [
    "message = \"hello\"\n",
    "message2 =f\"message is {message}\"\n",
    "\n",
    "message = \"jaipur\"\n",
    "print(message)\n"
   ]
  },
  {
   "cell_type": "code",
   "execution_count": 37,
   "metadata": {},
   "outputs": [
    {
     "data": {
      "text/plain": [
       "'Raj'"
      ]
     },
     "execution_count": 37,
     "metadata": {},
     "output_type": "execute_result"
    }
   ],
   "source": [
    "# Slicing and indexing \n",
    "city = \"Rajasthan\"\n",
    "city[0::2]\n",
    "city[:7:3]\n",
    "city[0:3:-1]  # Empty string \n",
    "city[4:1:1]\n",
    "city[-1:-4]\n",
    "city[0:3:1]"
   ]
  }
 ],
 "metadata": {
  "kernelspec": {
   "display_name": "Python 3",
   "language": "python",
   "name": "python3"
  },
  "language_info": {
   "codemirror_mode": {
    "name": "ipython",
    "version": 3
   },
   "file_extension": ".py",
   "mimetype": "text/x-python",
   "name": "python",
   "nbconvert_exporter": "python",
   "pygments_lexer": "ipython3",
   "version": "3.11.1"
  },
  "orig_nbformat": 4
 },
 "nbformat": 4,
 "nbformat_minor": 2
}
